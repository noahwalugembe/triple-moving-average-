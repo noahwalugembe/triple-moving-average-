{
 "cells": [
  {
   "cell_type": "code",
   "execution_count": 2,
   "metadata": {},
   "outputs": [],
   "source": [
    "#First, let us import the necessary libraries.\n",
    "from pandas_datareader import data as web\n",
    "import numpy as np\n",
    "import pandas as pd\n",
    "from sklearn import mixture as mix\n",
    "import seaborn as sns \n",
    "#import matplotlib.pyplot as plt\n",
    "\n",
    "from sklearn.linear_model import Lasso\n",
    "from sklearn.preprocessing import StandardScaler\n",
    "from sklearn.model_selection import RandomizedSearchCV as rcv\n",
    "from sklearn.pipeline import Pipeline\n",
    "#from sklearn.preprocessing import Imputer\n",
    "import matplotlib.pyplot as plt\n",
    "from IPython import get_ipython"
   ]
  },
  {
   "cell_type": "code",
   "execution_count": 3,
   "metadata": {},
   "outputs": [],
   "source": [
    "#Then we fetch the OHLC data from Google and shift it by one day to train the algorithm only on the past data.\n",
    "avg_err={}\n",
    "avg_train_err={}\n",
    "\n",
    "df= web.get_data_yahoo('SPY',start= '2000-01-01', end='2017-01-01')\n",
    "df=df[['Open','High','Low','Close']]\n",
    "df['open']=df['Open'].shift(1)\n",
    "df['high']=df['High'].shift(1)\n",
    "df['low']=df['Low'].shift(1)\n",
    "df['close']=df['Close'].shift(1)\n",
    "\n",
    "df=df[['open','high','low','close']]"
   ]
  },
  {
   "cell_type": "code",
   "execution_count": 4,
   "metadata": {},
   "outputs": [],
   "source": [
    "#Then drop all the NaN.\n",
    "\n",
    "df=df.dropna()"
   ]
  },
  {
   "cell_type": "code",
   "execution_count": 5,
   "metadata": {},
   "outputs": [],
   "source": [
    "#Next, we will instantiate an unsupervised machine learning algorithm using the \"Gaussian mixture\" model from sklearn.\n",
    "\n",
    "unsup = mix.GaussianMixture(n_components=3, \n",
    "                            covariance_type=\"spherical\", \n",
    "                            n_init=100, \n",
    "                            random_state=42)"
   ]
  },
  {
   "cell_type": "code",
   "execution_count": 6,
   "metadata": {},
   "outputs": [
    {
     "data": {
      "text/plain": [
       "'\\nIn the above code, I created an unsupervised-algo that will divide the market into 4 regimes, based on the criterion of \\nits own choosing. We have not provided any train dataset with labels like in the previous section of the Python machine learning tutorial.\\n'"
      ]
     },
     "execution_count": 6,
     "metadata": {},
     "output_type": "execute_result"
    }
   ],
   "source": [
    "\"\"\"\n",
    "In the above code, I created an unsupervised-algo that will divide the market into 4 regimes, based on the criterion of \n",
    "its own choosing. We have not provided any train dataset with labels like in the previous section of the Python machine learning tutorial.\n",
    "\"\"\""
   ]
  },
  {
   "cell_type": "code",
   "execution_count": 7,
   "metadata": {},
   "outputs": [],
   "source": [
    "#Next, we will fit the data and predict the regimes. Then we will be storing these regime predictions in a new variable called regime.\n",
    "\n",
    "unsup.fit(np.reshape(df,(-1,df.shape[1])))\n",
    "regime = unsup.predict(np.reshape(df,(-1,df.shape[1])))\n",
    "\n",
    "#Now let us calculate the returns of the day.\n",
    "df['Return']= np.log(df['close']/df['close'].shift(1))"
   ]
  },
  {
   "cell_type": "code",
   "execution_count": 8,
   "metadata": {},
   "outputs": [],
   "source": [
    "#Then, create a dataframe called Regimes which will have the OHLC and Return values along with the corresponding regime classification.\n",
    "\n",
    "Regimes=pd.DataFrame(regime,columns=['Regime'],index=df.index)\\\n",
    "                     .join(df, how='inner')\\\n",
    "                          .assign(market_cu_return=df.Return.cumsum())\\\n",
    "                                 .reset_index(drop=False)\\\n",
    "                                             .rename(columns={'index':'Date'})"
   ]
  },
  {
   "cell_type": "code",
   "execution_count": 9,
   "metadata": {},
   "outputs": [
    {
     "name": "stderr",
     "output_type": "stream",
     "text": [
      "C:\\Users\\Noah\\Anaconda3\\lib\\site-packages\\seaborn\\axisgrid.py:230: UserWarning: The `size` paramter has been renamed to `height`; please update your code.\n",
      "  warnings.warn(msg, UserWarning)\n",
      "C:\\Users\\Noah\\Anaconda3\\lib\\site-packages\\pandas\\plotting\\_matplotlib\\converter.py:103: FutureWarning: Using an implicitly registered datetime converter for a matplotlib plotting method. The converter was registered by pandas on import. Future versions of pandas will require you to explicitly register matplotlib converters.\n",
      "\n",
      "To register the converters:\n",
      "\t>>> from pandas.plotting import register_matplotlib_converters\n",
      "\t>>> register_matplotlib_converters()\n",
      "  warnings.warn(msg, FutureWarning)\n"
     ]
    },
    {
     "data": {
      "image/png": "[encoded data removed]",
      "text/plain": [
       "<Figure size 622x288 with 1 Axes>"
      ]
     },
     "metadata": {
      "needs_background": "light"
     },
     "output_type": "display_data"
    }
   ],
   "source": [
    "#After this, let us create a list called 'order' that has the values corresponding to the regime classification, and then plot these values to see how well the algo has classified.\n",
    "\n",
    "order=[0,1,2]\n",
    "fig = sns.FacetGrid(data=Regimes,hue='Regime',hue_order=order,aspect=2,size= 4)\n",
    "fig.map(plt.scatter,'Date','market_cu_return', s=4).add_legend()\n",
    "plt.show()"
   ]
  },
  {
   "cell_type": "code",
   "execution_count": 10,
   "metadata": {},
   "outputs": [
    {
     "data": {
      "text/plain": [
       "'\\nThis graph looks pretty good to me. Without actually looking at the factors based on which the classification was done, we can conclude a few things just by looking at the chart.\\n\\nThe red zone is the low volatility or the sideways zone\\nThe purple zone is high volatility zone or panic zone.\\nThe green zone is a breakout zone.\\nThe blue zone: Not entirely sure but let us find out\\n'"
      ]
     },
     "execution_count": 10,
     "metadata": {},
     "output_type": "execute_result"
    }
   ],
   "source": [
    "\"\"\"\n",
    "This graph looks pretty good to me. Without actually looking at the factors based on which the classification was done, we can conclude a few things just by looking at the chart.\n",
    "\n",
    "The red zone is the low volatility or the sideways zone\n",
    "The purple zone is high volatility zone or panic zone.\n",
    "The green zone is a breakout zone.\n",
    "The blue zone: Not entirely sure but let us find out\n",
    "\"\"\""
   ]
  },
  {
   "cell_type": "code",
   "execution_count": 11,
   "metadata": {},
   "outputs": [
    {
     "name": "stdout",
     "output_type": "stream",
     "text": [
      "Mean for regime 0:  138.09607504562925\n",
      "Co-Variancefor regime 0:  81.2233575241695\n",
      "Mean for regime 1:  197.2889148787758\n",
      "Co-Variancefor regime 1:  249.57508258644486\n",
      "Mean for regime 2:  107.12039675758527\n",
      "Co-Variancefor regime 2:  155.33214885718792\n"
     ]
    }
   ],
   "source": [
    "#Use the code below to print the relevant data for each regime\n",
    "\n",
    "for i in order:\n",
    "    print('Mean for regime %i: '%i,unsup.means_[i][0])\n",
    "    print('Co-Variancefor regime %i: '%i,(unsup.covariances_[i]))"
   ]
  },
  {
   "cell_type": "code",
   "execution_count": 46,
   "metadata": {},
   "outputs": [],
   "source": [
    "#PREDICTING DAILY CLOSE WHILE COMPARING TO REGIM\n",
    "\n"
   ]
  }
 ],
 "metadata": {
  "kernelspec": {
   "display_name": "Python 3",
   "language": "python",
   "name": "python3"
  },
  "language_info": {
   "codemirror_mode": {
    "name": "ipython",
    "version": 3
   },
   "file_extension": ".py",
   "mimetype": "text/x-python",
   "name": "python",
   "nbconvert_exporter": "python",
   "pygments_lexer": "ipython3",
   "version": "3.7.4"
  }
 },
 "nbformat": 4,
 "nbformat_minor": 2
}
